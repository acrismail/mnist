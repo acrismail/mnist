{
  "nbformat": 4,
  "nbformat_minor": 0,
  "metadata": {
    "colab": {
      "private_outputs": true,
      "provenance": [],
      "authorship_tag": "ABX9TyP3QcDSq2Y2pi8m1nc3680A",
      "include_colab_link": true
    },
    "kernelspec": {
      "name": "python3",
      "display_name": "Python 3"
    },
    "language_info": {
      "name": "python"
    },
    "accelerator": "GPU",
    "gpuClass": "standard"
  },
  "cells": [
    {
      "cell_type": "markdown",
      "metadata": {
        "id": "view-in-github",
        "colab_type": "text"
      },
      "source": [
        "<a href=\"https://colab.research.google.com/github/acrismail/mnist/blob/main/Mnist_rakam_tanima.ipynb\" target=\"_parent\"><img src=\"https://colab.research.google.com/assets/colab-badge.svg\" alt=\"Open In Colab\"/></a>"
      ]
    },
    {
      "cell_type": "code",
      "execution_count": null,
      "metadata": {
        "id": "5lT_S5xNXWM-"
      },
      "outputs": [],
      "source": [
        "\n",
        "from google.colab import drive\n",
        "drive.mount('/gdrive/')\n",
        "     "
      ]
    },
    {
      "cell_type": "code",
      "source": [
        "# Gerkli kütüphaneleri yükleyelim;"
      ],
      "metadata": {
        "id": "bBoYoF5XYCF4"
      },
      "execution_count": null,
      "outputs": []
    },
    {
      "cell_type": "code",
      "source": [
        "from __future__ import print_function\n",
        "import keras\n",
        "import tensorflow\n",
        "from keras.datasets import mnist\n",
        "from keras.models import load_model\n",
        "from keras.models import Sequential\n",
        "from keras.layers import Dense, Dropout, Flatten\n",
        "from keras.layers import Conv2D, MaxPooling2D\n",
        "#from keras.utils import to_categorical\n",
        "from tensorflow.keras.utils import to_categorical\n",
        "from tensorflow.keras import optimizers\n",
        "from keras import backend as K\n",
        "\n",
        "import matplotlib.pyplot as plt\n"
      ],
      "metadata": {
        "id": "CHrpWD-tYctW"
      },
      "execution_count": null,
      "outputs": []
    },
    {
      "cell_type": "code",
      "source": [
        "# Verisetini yükleyelim;\n",
        "\n",
        "from keras.datasets import mnist\n",
        "(X_train,y_train),(X_test,y_test)=mnist.load_data()"
      ],
      "metadata": {
        "id": "U6KxbAbQYdc5"
      },
      "execution_count": null,
      "outputs": []
    },
    {
      "cell_type": "code",
      "source": [
        "# Verisetinden birkaç örneği görselleştirelim;"
      ],
      "metadata": {
        "id": "8nCyzwLHZEX7"
      },
      "execution_count": null,
      "outputs": []
    },
    {
      "cell_type": "code",
      "source": [
        "plt.imshow(X_train[0])"
      ],
      "metadata": {
        "id": "jlvHlFvDZORq"
      },
      "execution_count": null,
      "outputs": []
    },
    {
      "cell_type": "code",
      "source": [
        "plt.imshow(X_train[100])"
      ],
      "metadata": {
        "id": "vizrZCNWZWXw"
      },
      "execution_count": null,
      "outputs": []
    },
    {
      "cell_type": "code",
      "source": [
        "plt.imshow(X_train[1000])"
      ],
      "metadata": {
        "id": "2OBEZ7DeZaIN"
      },
      "execution_count": null,
      "outputs": []
    },
    {
      "cell_type": "code",
      "source": [
        "plt.figure(figsize=(16,16))\n",
        "for i in range(60):\n",
        "  plt.subplot(6,10,i+1)\n",
        "  plt.imshow(X_train[i])"
      ],
      "metadata": {
        "id": "CEEMxwYJZcB_"
      },
      "execution_count": null,
      "outputs": []
    },
    {
      "cell_type": "code",
      "source": [
        "# Verisetindeki 60 görüntüyü görselleştirdik(train den)"
      ],
      "metadata": {
        "id": "RtT_tsUjaMk4"
      },
      "execution_count": null,
      "outputs": []
    },
    {
      "cell_type": "code",
      "source": [
        "# görüntünün boyutuna bakalım\n",
        "\n",
        "X_train[5].shape"
      ],
      "metadata": {
        "id": "TjUB-jDpa7Bb"
      },
      "execution_count": null,
      "outputs": []
    },
    {
      "cell_type": "code",
      "source": [
        "# görüntümüz 28*28 boyutunda,bu oldukça küçük bir boyut"
      ],
      "metadata": {
        "id": "vXi35mB_axYw"
      },
      "execution_count": null,
      "outputs": []
    },
    {
      "cell_type": "code",
      "source": [
        "X_train.shape"
      ],
      "metadata": {
        "id": "WQohDauLcRWQ"
      },
      "execution_count": null,
      "outputs": []
    },
    {
      "cell_type": "code",
      "source": [
        "X_test.shape"
      ],
      "metadata": {
        "id": "dP71gdVccHUU"
      },
      "execution_count": null,
      "outputs": []
    },
    {
      "cell_type": "code",
      "source": [
        "y_train"
      ],
      "metadata": {
        "id": "PZnCphPmdJOY"
      },
      "execution_count": null,
      "outputs": []
    },
    {
      "cell_type": "code",
      "source": [
        "y_test"
      ],
      "metadata": {
        "id": "Hvp54b-PdN1n"
      },
      "execution_count": null,
      "outputs": []
    },
    {
      "cell_type": "code",
      "source": [
        "#Veri önişleme"
      ],
      "metadata": {
        "id": "VV4o_IyHa396"
      },
      "execution_count": null,
      "outputs": []
    },
    {
      "cell_type": "code",
      "source": [
        "# X_train ve X_testi yeniden şekillendirmemiz lazım;\n",
        "\n",
        "X_train=X_train.reshape(60000,28,28,1) # 60000 tane görüntümüz var, boyutlar 28*28 sondaki 1 gri olduğunu belirtir\n",
        "X_test=X_test.reshape(10000,28,28,1)   #10000 tane görüntümüz var,boyutlar 28*28 ,sondaki 1 gri renkli olduğunu ifade eder"
      ],
      "metadata": {
        "id": "ANPpR2DqbX9T"
      },
      "execution_count": null,
      "outputs": []
    },
    {
      "cell_type": "code",
      "source": [
        "# Hedef değişkenlerimiz için encoding işlemi gerçekleştirelim\n",
        "\n",
        "from keras.utils import to_categorical"
      ],
      "metadata": {
        "id": "gUHAcDO2cxt7"
      },
      "execution_count": null,
      "outputs": []
    },
    {
      "cell_type": "code",
      "source": [
        "y_train=to_categorical(y_train)\n",
        "y_test=to_categorical(y_test)"
      ],
      "metadata": {
        "id": "U_g9lyJkdFhH"
      },
      "execution_count": null,
      "outputs": []
    },
    {
      "cell_type": "code",
      "source": [
        "#Normalleştirme işlemi uygulayalım;\n",
        "\n",
        "X_train=X_train/255\n",
        "X_test=X_test/255"
      ],
      "metadata": {
        "id": "mcx7WpDMgLwL"
      },
      "execution_count": null,
      "outputs": []
    },
    {
      "cell_type": "code",
      "source": [
        "# Modelimizi oluşturalım,çeşitli durumları karşılaştıralım"
      ],
      "metadata": {
        "id": "JLNi2h_3iaT-"
      },
      "execution_count": null,
      "outputs": []
    },
    {
      "cell_type": "code",
      "source": [
        "model=Sequential()"
      ],
      "metadata": {
        "id": "BEQnTUKviJfc"
      },
      "execution_count": null,
      "outputs": []
    },
    {
      "cell_type": "code",
      "source": [
        "# katnanlarımızı ekleyelim;"
      ],
      "metadata": {
        "id": "Xp1xauiviouU"
      },
      "execution_count": null,
      "outputs": []
    },
    {
      "cell_type": "code",
      "source": [
        "model.add(Conv2D(64,(3,3),activation=\"relu\",input_shape=(28,28,1)))\n",
        "model.add(Conv2D(32,(3,3),activation=\"relu\"))\n",
        "model.add(Flatten())\n",
        "model.add(Dense(10,activation=\"softmax\"))"
      ],
      "metadata": {
        "id": "A98r0YX-iu4B"
      },
      "execution_count": null,
      "outputs": []
    },
    {
      "cell_type": "code",
      "source": [
        "# modeli derleyelim;\n",
        "\n",
        "model.compile(optimizer=\"adam\",loss=\"categorical_crossentropy\",metrics=[\"accuracy\"])"
      ],
      "metadata": {
        "id": "M2MUZWDTj3sN"
      },
      "execution_count": null,
      "outputs": []
    },
    {
      "cell_type": "code",
      "source": [
        "model.summary()  # model özeti"
      ],
      "metadata": {
        "id": "SUDJqOymkhqp"
      },
      "execution_count": null,
      "outputs": []
    },
    {
      "cell_type": "code",
      "source": [
        "# modeli eğitelim(training)\n",
        "\n",
        "model.fit(X_train,y_train,validation_data=(X_test,y_test),epochs=20)"
      ],
      "metadata": {
        "id": "5kCjt-9ok2HD"
      },
      "execution_count": null,
      "outputs": []
    },
    {
      "cell_type": "code",
      "source": [
        "# Görüldüğü gibi 15 epochtan sonra başarım düşmeye başlıyor \n",
        "# 15 ten sonra overffitting işlemi gerçekleşiyor (tur sayısını 15 te durdurmamız lazım)\n",
        "# çok yüksek baaşarı oranı verdi yinede birkaç farklı teknik deneyelim"
      ],
      "metadata": {
        "id": "LApk5FWbloHC"
      },
      "execution_count": null,
      "outputs": []
    },
    {
      "cell_type": "code",
      "source": [
        "# noron sayısını artıralım,gözlemleyelim;"
      ],
      "metadata": {
        "id": "bPu4xy5Sm5G3"
      },
      "execution_count": null,
      "outputs": []
    },
    {
      "cell_type": "code",
      "source": [
        "model=Sequential()"
      ],
      "metadata": {
        "id": "6Rt3iTIynQs-"
      },
      "execution_count": null,
      "outputs": []
    },
    {
      "cell_type": "code",
      "source": [
        "model.add(Conv2D(128,(3,3),activation=\"relu\",input_shape=(28,28,1)))\n",
        "model.add(Conv2D(64,(3,3),activation=\"relu\"))\n",
        "model.add(Flatten())\n",
        "model.add(Dense(10,activation=\"softmax\"))"
      ],
      "metadata": {
        "id": "jBIMuZGCnU6w"
      },
      "execution_count": null,
      "outputs": []
    },
    {
      "cell_type": "code",
      "source": [
        "model.summary()  # model özeti"
      ],
      "metadata": {
        "id": "uIlbVRW2oSmI"
      },
      "execution_count": null,
      "outputs": []
    },
    {
      "cell_type": "code",
      "source": [
        "# modeli derleyelim;\n",
        "\n",
        "model.compile(optimizer=\"adam\",loss=\"categorical_crossentropy\",metrics=[\"accuracy\"])"
      ],
      "metadata": {
        "id": "pHTBOVs-oZ1q"
      },
      "execution_count": null,
      "outputs": []
    },
    {
      "cell_type": "code",
      "source": [
        "# modeli eğitelim(training)\n",
        "\n",
        "model.fit(X_train,y_train,validation_data=(X_test,y_test),epochs=10)"
      ],
      "metadata": {
        "id": "DuYHBsgfoeDm"
      },
      "execution_count": null,
      "outputs": []
    },
    {
      "cell_type": "code",
      "source": [
        "# noron sayısını artırınca başarı oranı çok az olsada düşüyor (64,32 bu problem için ideal )"
      ],
      "metadata": {
        "id": "DfvaV09iokKQ"
      },
      "execution_count": null,
      "outputs": []
    },
    {
      "cell_type": "code",
      "source": [
        "# model değerlendirme\n",
        "\n",
        "score = model.evaluate(X_test, y_test, verbose=0)\n",
        "print('Test Loss:', score[0])\n",
        "print('Test Accuracy:', score[1])\n"
      ],
      "metadata": {
        "id": "YS_9MTUHpowH"
      },
      "execution_count": null,
      "outputs": []
    },
    {
      "cell_type": "code",
      "source": [],
      "metadata": {
        "id": "SEKG0lBNqT8J"
      },
      "execution_count": null,
      "outputs": []
    }
  ]
}